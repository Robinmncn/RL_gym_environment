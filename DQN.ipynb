{
 "cells": [
  {
   "cell_type": "code",
   "execution_count": 1,
   "metadata": {},
   "outputs": [],
   "source": [
    "import math, random\n",
    "from collections import deque\n",
    "import gym\n",
    "import numpy as np\n",
    "import time\n",
    "\n",
    "import torch\n",
    "import torch.nn as nn\n",
    "import torch.optim as optim\n",
    "import torch.autograd as autograd \n",
    "import torch.nn.functional as F\n",
    "\n",
    "from itertools import count\n",
    "import torch.optim as optim\n",
    "\n",
    "from IPython.display import clear_output\n",
    "import matplotlib.pyplot as plt\n",
    "%matplotlib inline"
   ]
  },
  {
   "cell_type": "code",
   "execution_count": null,
   "metadata": {},
   "outputs": [],
   "source": []
  },
  {
   "cell_type": "code",
   "execution_count": null,
   "metadata": {},
   "outputs": [],
   "source": []
  },
  {
   "cell_type": "markdown",
   "metadata": {},
   "source": [
    "### Model Architecture, Deep Q-Network"
   ]
  },
  {
   "cell_type": "code",
   "execution_count": 2,
   "metadata": {},
   "outputs": [],
   "source": [
    "class DQN_Linear(nn.Module):\n",
    "    def __init__(self, n_observations, n_actions):\n",
    "        super(DQN_Linear, self).__init__()\n",
    "        \n",
    "        self.layers = nn.Sequential(\n",
    "            nn.Linear(n_observations, 64),\n",
    "            nn.ReLU(),\n",
    "            nn.Linear(64, 64),\n",
    "            nn.ReLU(),\n",
    "            nn.Linear(64, n_actions))\n",
    "\n",
    "    def forward(self, x):\n",
    "        return self.layers(x)"
   ]
  },
  {
   "cell_type": "code",
   "execution_count": 3,
   "metadata": {},
   "outputs": [],
   "source": [
    "def plot(ep, rewards, losses):\n",
    "    clear_output(True)\n",
    "    plt.figure(figsize=(20,5))\n",
    "    plt.subplot(131)\n",
    "    plt.title('Episode %s. reward: %s' % (ep, np.mean(rewards[-10:])))\n",
    "    plt.plot(rewards)\n",
    "    plt.subplot(132)\n",
    "    plt.title('loss')\n",
    "    plt.plot(losses)\n",
    "    plt.show()"
   ]
  },
  {
   "cell_type": "markdown",
   "metadata": {},
   "source": [
    "## Training"
   ]
  },
  {
   "cell_type": "code",
   "execution_count": 4,
   "metadata": {},
   "outputs": [],
   "source": [
    "class replayBuffer():\n",
    "    \"\"\"Stores the transitions observed\"\"\"\n",
    "    \n",
    "    def __init__(self, capacity):\n",
    "        self.buffer = deque(maxlen=capacity)\n",
    "        \n",
    "    def push(self, state, action, reward, next_state, done):\n",
    "        \"\"\"Push the new SARS into the buffer\"\"\"\n",
    "        self.buffer.append((state, action, reward, next_state, done))\n",
    "        \n",
    "    def sample(self, minibatch_size):\n",
    "        \"\"\"Sample random minibatch of transitions\"\"\"\n",
    "        state, action, reward, next_state, done = zip(*random.sample(self.buffer, minibatch_size))\n",
    "        return state, action, reward, next_state, done\n",
    "    \n",
    "    def __len__(self):\n",
    "        \"\"\"return the length of the memory buffer\"\"\"\n",
    "        return len(self.buffer)"
   ]
  },
  {
   "cell_type": "code",
   "execution_count": 5,
   "metadata": {},
   "outputs": [],
   "source": [
    "def chose_action(state):\n",
    "    global n_steps\n",
    "    \n",
    "    eps_greedy = EPS_END + (EPS_0 - EPS_END) * math.exp(-1. * n_steps / EPS_DECAY)\n",
    "    #eps_greedy = 0.2\n",
    "    \n",
    "    n_steps += 1\n",
    "    if random.random() > eps_greedy:\n",
    "        \"\"\"Pick the best action, no back-propagation\"\"\"\n",
    "        with torch.no_grad():\n",
    "            return policy_net(torch.FloatTensor(state)).max(0)[1]\n",
    "    else:\n",
    "        \"\"\"Takne a random action\"\"\"\n",
    "        return torch.tensor(random.randrange(n_actions))"
   ]
  },
  {
   "cell_type": "code",
   "execution_count": 6,
   "metadata": {},
   "outputs": [],
   "source": [
    "def optimize_model():\n",
    "    if len(replay_buffer) > BATCH_SIZE:\n",
    "        \"\"\"state, action, reward, next_state, done = replay_buffer.sample(BATCH_SIZE)\n",
    "        \n",
    "        state_batch = torch.cat(tuple((map(lambda a: torch.tensor([a]), state)))).float()\n",
    "        next_state_batch = torch.cat(tuple((map(lambda a: torch.tensor([a]), next_state)))).float()\n",
    "        action_batch = torch.cat(tuple((map(lambda a: torch.tensor([[a]]), action))))\n",
    "        reward_batch = torch.cat(tuple((map(lambda a: torch.tensor([a]), reward))))\"\"\"\n",
    "        \n",
    "        \n",
    "        state, action, reward, next_state, done = replay_buffer.sample(BATCH_SIZE)\n",
    "        state_batch      = autograd.Variable(torch.FloatTensor(np.float32(state)))\n",
    "        with torch.no_grad():\n",
    "            next_state_batch = autograd.Variable(torch.FloatTensor(np.float32(next_state)))\n",
    "        action_batch     = autograd.Variable(torch.LongTensor(action))\n",
    "        reward_batch     = autograd.Variable(torch.FloatTensor(reward))\n",
    "        done_batch       = autograd.Variable(torch.BoolTensor(done))\n",
    "\n",
    "        non_final_mask = ~done_batch\n",
    "        q_value = policy_net(state_batch).gather(1, action_batch.unsqueeze(1))\n",
    "        \n",
    "        # final state have a reward of 0 \n",
    "        next_q_value = torch.zeros(BATCH_SIZE)\n",
    "        next_q_value[non_final_mask] = frozen_net(next_state_batch[non_final_mask]).max(1)[0].detach()\n",
    "    \n",
    "        expected_q_value = (next_q_value * GAMMA) + reward_batch\n",
    "    \n",
    "    \n",
    "        #loss  = F.smooth_l1_loss(q_value.squeeze(), expected_q_value)\n",
    "        #loss = loss_func (q_value.squeeze(), expected_q_value)\n",
    "        loss = (q_value.squeeze() - expected_q_value).pow(2).mean()\n",
    "        \n",
    "        optimizer.zero_grad()\n",
    "        loss.backward()\n",
    "        optimizer.step()\n",
    "        \n",
    "        return loss   "
   ]
  },
  {
   "cell_type": "code",
   "execution_count": 7,
   "metadata": {},
   "outputs": [],
   "source": [
    "def train(env, n_episodes):\n",
    "    losses = []\n",
    "    all_rewards = []\n",
    "    ep_loss = 0\n",
    "    \n",
    "    for i_episode in range(n_episodes):\n",
    "        state = env.reset()\n",
    "        episode_reward = 0\n",
    "        \n",
    "        for t in count():\n",
    "            action = chose_action(state)\n",
    "            next_state, reward, done, info = env.step(action.item())\n",
    "            episode_reward += reward\n",
    "            \n",
    "            replay_buffer.push(state, action, reward, next_state, done)\n",
    "            state = next_state \n",
    "            \n",
    "            if n_steps > BUFFER_SIZE:\n",
    "                ep_loss = optimize_model()\n",
    "                losses.append(ep_loss)\n",
    "                \n",
    "                if n_steps % UPDATE_FREQ == 0:\n",
    "                    frozen_net.load_state_dict(policy_net.state_dict())\n",
    "                    \n",
    "            if done:\n",
    "                all_rewards.append(episode_reward)\n",
    "                break\n",
    "                \n",
    "        if i_episode % PRINT_EPI_FREQ == 0:\n",
    "            plot(i_episode, all_rewards, losses)\n",
    "            print('Total steps: {} \\t Episode: {} \\t Length Episode: {} \\t Episode reward: {} \\t Loss: {}'.format(n_steps, i_episode, t, episode_reward, ep_loss))\n",
    "    \n",
    "    env.close()\n",
    "    return"
   ]
  },
  {
   "cell_type": "code",
   "execution_count": null,
   "metadata": {},
   "outputs": [],
   "source": []
  },
  {
   "cell_type": "code",
   "execution_count": 20,
   "metadata": {
    "scrolled": false
   },
   "outputs": [
    {
     "data": {
      "image/png": "[encoded data removed]",
      "text/plain": [
       "<Figure size 1440x360 with 2 Axes>"
      ]
     },
     "metadata": {
      "needs_background": "light"
     },
     "output_type": "display_data"
    },
    {
     "name": "stdout",
     "output_type": "stream",
     "text": [
      "Total steps: 138013 \t Episode: 900 \t Length Episode: 199 \t Episode reward: 200.0 \t Loss: 0.05331810563802719\n"
     ]
    }
   ],
   "source": [
    "BATCH_SIZE = 64\n",
    "BUFFER_SIZE = 1000\n",
    "GAMMA = 0.98\n",
    "EPS_0 = 1.0\n",
    "EPS_END = 0.02\n",
    "EPS_DECAY = 2000\n",
    "UPDATE_FREQ = 10\n",
    "PRINT_EPI_FREQ = 100\n",
    "LR = 0.003\n",
    "\n",
    "env = gym.make('CartPole-v0')\n",
    "device = torch.device(\"cuda\" if torch.cuda.is_available() else \"cpu\")\n",
    "\n",
    "replay_buffer = replayBuffer(BUFFER_SIZE)\n",
    "\n",
    "n_actions = env.action_space.n\n",
    "n_observations = env.observation_space.shape[0]\n",
    "\n",
    "policy_net = DQN_Linear(n_observations, n_actions).to(device)\n",
    "frozen_net = DQN_Linear(n_observations, n_actions).to(device)\n",
    "\n",
    "first_policy_net = DQN_Linear(n_observations, n_actions).to(device)\n",
    "first_policy_net.load_state_dict(policy_net.state_dict())\n",
    "\n",
    "frozen_net.load_state_dict(policy_net.state_dict())\n",
    "frozen_net.eval()\n",
    "\n",
    "optimizer = optim.Adam(policy_net.parameters())\n",
    "\n",
    "n_steps = 0\n",
    "\n",
    "\n",
    "train(env, 1000)"
   ]
  },
  {
   "cell_type": "markdown",
   "metadata": {},
   "source": [
    "### Tests"
   ]
  },
  {
   "cell_type": "code",
   "execution_count": 25,
   "metadata": {
    "scrolled": true
   },
   "outputs": [
    {
     "name": "stdout",
     "output_type": "stream",
     "text": [
      "Steps :  99\n",
      "Steps :  99\n",
      "Steps :  99\n",
      "Steps :  99\n",
      "Steps :  99\n"
     ]
    }
   ],
   "source": [
    "from itertools import count\n",
    "import time\n",
    "\n",
    "for i_episode in range(5):\n",
    "    observation = env.reset()\n",
    "    for t in range(100):\n",
    "        time.sleep(0.02)\n",
    "        env.render()\n",
    "        #print(observation)\n",
    "        action = policy_net(torch.FloatTensor(observation)).max(0)[1].view(1,1)\n",
    "        # print(policy_net(torch.FloatTensor(observation)).data)\n",
    "        observation, reward, done, info = env.step(action.item())\n",
    "    print('Steps : ', t)\n",
    "env.close()"
   ]
  },
  {
   "cell_type": "code",
   "execution_count": null,
   "metadata": {},
   "outputs": [],
   "source": []
  },
  {
   "cell_type": "code",
   "execution_count": null,
   "metadata": {},
   "outputs": [],
   "source": []
  }
 ],
 "metadata": {
  "kernelspec": {
   "display_name": "Python 3",
   "language": "python",
   "name": "python3"
  },
  "language_info": {
   "codemirror_mode": {
    "name": "ipython",
    "version": 3
   },
   "file_extension": ".py",
   "mimetype": "text/x-python",
   "name": "python",
   "nbconvert_exporter": "python",
   "pygments_lexer": "ipython3",
   "version": "3.7.7"
  }
 },
 "nbformat": 4,
 "nbformat_minor": 4
}
