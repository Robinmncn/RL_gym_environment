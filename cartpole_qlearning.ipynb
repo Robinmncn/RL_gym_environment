{
 "cells": [
  {
   "cell_type": "code",
   "execution_count": 1,
   "metadata": {},
   "outputs": [],
   "source": [
    "import gym\n",
    "import numpy as np\n",
    "import matplotlib.pyplot as plt"
   ]
  },
  {
   "cell_type": "code",
   "execution_count": 2,
   "metadata": {},
   "outputs": [],
   "source": [
    "env = gym.make('CartPole-v0')"
   ]
  },
  {
   "cell_type": "code",
   "execution_count": 3,
   "metadata": {},
   "outputs": [],
   "source": [
    "#PARAMETERS\n",
    "MAXSTATES = 10**4\n",
    "GAMMA = 0.9\n",
    "ALPHA = 0.01"
   ]
  },
  {
   "cell_type": "code",
   "execution_count": 4,
   "metadata": {},
   "outputs": [],
   "source": [
    "def create_bins():\n",
    "    #observation -> [cart_position, card_velocity, pole_angle, pole_velocity]\n",
    "    # position c [-2.4, 2.4] for the cart, [-3, 3] for the pole angle\n",
    "    # velocity c )-inf , inf( we clip that to [-4, 4] \n",
    "    # after analysis of the exp observations, the cart and the pole speed are limited to +/- 3.5\n",
    "    \n",
    "    bins = np.zeros((4, 10))\n",
    "    # bins[0] = np.random.vonmises(0, 2.5, 10) ???\n",
    "    bins[0] = np.linspace(-2.4, 2.4, 10)\n",
    "    bins[1] = np.linspace(-4, 4, 10)\n",
    "    bins[2] = np.linspace(-3, .3, 10)\n",
    "    bins[3] = np.linspace(-4, 4, 10)\n",
    "    \n",
    "    return bins"
   ]
  },
  {
   "cell_type": "code",
   "execution_count": 5,
   "metadata": {},
   "outputs": [],
   "source": [
    "def assign_bins(observation, bins):\n",
    "    #assigne an observation to a bin\n",
    "    state = np.zeros(4)\n",
    "    for i in range(4):\n",
    "        state[i] = np.digitize(observation[i], bins[i])\n",
    "    return state"
   ]
  },
  {
   "cell_type": "code",
   "execution_count": 6,
   "metadata": {},
   "outputs": [],
   "source": [
    "def assign_bins(observation, bins):\n",
    "    state = np.zeros(4)\n",
    "    for i in range(4):\n",
    "        state[i] = np.digitize(observation[i], bins[i])\n",
    "    return state"
   ]
  },
  {
   "cell_type": "code",
   "execution_count": 7,
   "metadata": {},
   "outputs": [],
   "source": [
    "def get_state_as_string(state):\n",
    "    string_state = ''.join(str(int(e)) for e in state)\n",
    "    return string_state"
   ]
  },
  {
   "cell_type": "code",
   "execution_count": 8,
   "metadata": {},
   "outputs": [],
   "source": [
    "def get_all_states_as_string():\n",
    "    states = []\n",
    "    for i in range(MAXSTATES):\n",
    "        states.append(str(i).zfill(4))\n",
    "    return states"
   ]
  },
  {
   "cell_type": "code",
   "execution_count": 9,
   "metadata": {},
   "outputs": [],
   "source": [
    "def max_dict(d):\n",
    "    max_v = float('-inf')\n",
    "    for key, val in d.items():\n",
    "        if val > max_v:\n",
    "            max_v = val\n",
    "            max_key = key\n",
    "    return max_key, max_v"
   ]
  },
  {
   "cell_type": "code",
   "execution_count": 10,
   "metadata": {},
   "outputs": [],
   "source": [
    "def initialize_Q_table():\n",
    "    Q = {}\n",
    "\n",
    "    all_states = get_all_states_as_string()\n",
    "    for state in all_states:\n",
    "        Q[state] = {}\n",
    "        for action in range(env.action_space.n):\n",
    "            Q[state][action] = 0\n",
    "    return Q"
   ]
  },
  {
   "cell_type": "code",
   "execution_count": 11,
   "metadata": {},
   "outputs": [],
   "source": [
    "def play_one_game(bins, Q, epsilon=0.5):\n",
    "    observation = env.reset()\n",
    "    done = False\n",
    "    count_moves = 0\n",
    "    state = get_state_as_string(assign_bins(observation, bins))\n",
    "    total_reward = 0\n",
    "    while not done:\n",
    "        count_moves += 1\n",
    "        if np.random.uniform() < epsilon:\n",
    "            action = env.action_space.sample()\n",
    "        else: action = max_dict(Q[state])[0]\n",
    "        \n",
    "        observation, reward, done, _ = env.step(action)\n",
    "        \n",
    "        total_reward += reward\n",
    "        \n",
    "        if done and count_moves < 20:\n",
    "            reward = -100\n",
    "            \n",
    "        state_new = get_state_as_string(assign_bins(observation, bins))\n",
    "        \n",
    "        a1, max_qs1a1 = max_dict(Q[state_new])\n",
    "        Q[state][action] += ALPHA * (reward + GAMMA * max_qs1a1 - Q[state][action])\n",
    "        state, action = state_new, a1\n",
    "        \n",
    "    return total_reward, count_moves"
   ]
  },
  {
   "cell_type": "code",
   "execution_count": 12,
   "metadata": {},
   "outputs": [],
   "source": [
    "def play_many_games(bins, N=10000):\n",
    "    Q = initialize_Q_table()\n",
    "\n",
    "    length = []\n",
    "    reward = []\n",
    "    for n in range(N):\n",
    "        if n > 1:\n",
    "            epsilon = 1.0 / np.sqrt(n+1)\n",
    "        else:\n",
    "            epsilon = 0\n",
    "\n",
    "        episode_reward, episode_length = play_one_game(bins, Q, epsilon)\n",
    "\n",
    "        if n % 100 == 0:\n",
    "            print(n, '%.4f' % epsilon, episode_reward)\n",
    "        length.append(episode_length)\n",
    "        reward.append(episode_reward)\n",
    "\n",
    "    return length, reward"
   ]
  },
  {
   "cell_type": "code",
   "execution_count": 13,
   "metadata": {},
   "outputs": [],
   "source": [
    "def plot_running_avg(totalrewards):\n",
    "    N = len(totalrewards)\n",
    "    running_avg = np.empty(N)\n",
    "    for t in range(N):\n",
    "        running_avg[t] = np.mean(totalrewards[max(0, t-100):(t+1)])\n",
    "    plt.plot(running_avg)\n",
    "    plt.title(\"Running Average\")\n",
    "    plt.show()"
   ]
  },
  {
   "cell_type": "code",
   "execution_count": null,
   "metadata": {},
   "outputs": [],
   "source": []
  },
  {
   "cell_type": "code",
   "execution_count": 14,
   "metadata": {},
   "outputs": [
    {
     "name": "stdout",
     "output_type": "stream",
     "text": [
      "0 0.0000 10.0\n",
      "100 0.0995 10.0\n",
      "200 0.0705 56.0\n",
      "300 0.0576 54.0\n",
      "400 0.0499 56.0\n",
      "500 0.0447 54.0\n",
      "600 0.0408 58.0\n",
      "700 0.0378 64.0\n",
      "800 0.0353 55.0\n",
      "900 0.0333 56.0\n",
      "1000 0.0316 58.0\n",
      "1100 0.0301 65.0\n",
      "1200 0.0289 74.0\n",
      "1300 0.0277 62.0\n",
      "1400 0.0267 52.0\n",
      "1500 0.0258 52.0\n",
      "1600 0.0250 63.0\n",
      "1700 0.0242 56.0\n",
      "1800 0.0236 54.0\n",
      "1900 0.0229 57.0\n",
      "2000 0.0224 51.0\n",
      "2100 0.0218 66.0\n",
      "2200 0.0213 72.0\n",
      "2300 0.0208 74.0\n",
      "2400 0.0204 65.0\n",
      "2500 0.0200 58.0\n",
      "2600 0.0196 61.0\n",
      "2700 0.0192 60.0\n",
      "2800 0.0189 60.0\n",
      "2900 0.0186 60.0\n",
      "3000 0.0183 52.0\n",
      "3100 0.0180 60.0\n",
      "3200 0.0177 50.0\n",
      "3300 0.0174 52.0\n",
      "3400 0.0171 57.0\n",
      "3500 0.0169 58.0\n",
      "3600 0.0167 72.0\n",
      "3700 0.0164 60.0\n",
      "3800 0.0162 70.0\n",
      "3900 0.0160 65.0\n",
      "4000 0.0158 57.0\n",
      "4100 0.0156 53.0\n",
      "4200 0.0154 62.0\n",
      "4300 0.0152 61.0\n",
      "4400 0.0151 70.0\n",
      "4500 0.0149 64.0\n",
      "4600 0.0147 51.0\n",
      "4700 0.0146 61.0\n",
      "4800 0.0144 63.0\n",
      "4900 0.0143 58.0\n",
      "5000 0.0141 56.0\n",
      "5100 0.0140 55.0\n",
      "5200 0.0139 54.0\n",
      "5300 0.0137 65.0\n",
      "5400 0.0136 72.0\n",
      "5500 0.0135 62.0\n",
      "5600 0.0134 63.0\n",
      "5700 0.0132 67.0\n",
      "5800 0.0131 72.0\n",
      "5900 0.0130 27.0\n",
      "6000 0.0129 58.0\n",
      "6100 0.0128 63.0\n",
      "6200 0.0127 56.0\n",
      "6300 0.0126 52.0\n",
      "6400 0.0125 56.0\n",
      "6500 0.0124 71.0\n",
      "6600 0.0123 54.0\n",
      "6700 0.0122 56.0\n",
      "6800 0.0121 59.0\n",
      "6900 0.0120 62.0\n",
      "7000 0.0120 62.0\n",
      "7100 0.0119 62.0\n",
      "7200 0.0118 62.0\n",
      "7300 0.0117 61.0\n",
      "7400 0.0116 60.0\n",
      "7500 0.0115 60.0\n",
      "7600 0.0115 56.0\n",
      "7700 0.0114 56.0\n",
      "7800 0.0113 55.0\n",
      "7900 0.0113 65.0\n",
      "8000 0.0112 67.0\n",
      "8100 0.0111 55.0\n",
      "8200 0.0110 56.0\n",
      "8300 0.0110 58.0\n",
      "8400 0.0109 56.0\n",
      "8500 0.0108 62.0\n",
      "8600 0.0108 60.0\n",
      "8700 0.0107 56.0\n",
      "8800 0.0107 60.0\n",
      "8900 0.0106 62.0\n",
      "9000 0.0105 55.0\n",
      "9100 0.0105 67.0\n",
      "9200 0.0104 69.0\n",
      "9300 0.0104 62.0\n",
      "9400 0.0103 64.0\n",
      "9500 0.0103 58.0\n",
      "9600 0.0102 55.0\n",
      "9700 0.0102 64.0\n",
      "9800 0.0101 68.0\n",
      "9900 0.0100 58.0\n"
     ]
    },
    {
     "data": {
      "image/png": "[encoded data removed]",
      "text/plain": [
       "<Figure size 432x288 with 1 Axes>"
      ]
     },
     "metadata": {
      "needs_background": "light"
     },
     "output_type": "display_data"
    }
   ],
   "source": [
    "if __name__ == '__main__':\n",
    "    bins = create_bins()\n",
    "    episode_lengths, episode_rewards = play_many_games(bins)\n",
    "\n",
    "    plot_running_avg(episode_rewards)"
   ]
  }
 ],
 "metadata": {
  "kernelspec": {
   "display_name": "Python 3",
   "language": "python",
   "name": "python3"
  },
  "language_info": {
   "codemirror_mode": {
    "name": "ipython",
    "version": 3
   },
   "file_extension": ".py",
   "mimetype": "text/x-python",
   "name": "python",
   "nbconvert_exporter": "python",
   "pygments_lexer": "ipython3",
   "version": "3.7.7"
  }
 },
 "nbformat": 4,
 "nbformat_minor": 4
}
