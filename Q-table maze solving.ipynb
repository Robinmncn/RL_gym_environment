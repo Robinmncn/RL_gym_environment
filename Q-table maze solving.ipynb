{
 "cells": [
  {
   "cell_type": "code",
   "execution_count": 1,
   "metadata": {},
   "outputs": [],
   "source": [
    "import numpy as np"
   ]
  },
  {
   "cell_type": "code",
   "execution_count": 2,
   "metadata": {},
   "outputs": [],
   "source": [
    "maze1 = np.array([[1.] * 5]*5)\n",
    "maze2 = np.array([\n",
    "    [ 1.,  0.,  1.,  1.,  1.,  1.,  1.,  1.,  1.,  1.],\n",
    "    [ 1.,  1.,  1.,  1.,  1.,  0.,  1.,  1.,  1.,  1.],\n",
    "    [ 1.,  1.,  1.,  1.,  1.,  0.,  1.,  1.,  1.,  1.],\n",
    "    [ 0.,  0.,  1.,  0.,  0.,  1.,  0.,  1.,  1.,  1.],\n",
    "    [ 1.,  1.,  0.,  1.,  0.,  1.,  0.,  0.,  0.,  1.],\n",
    "    [ 1.,  1.,  0.,  1.,  0.,  1.,  1.,  1.,  1.,  1.],\n",
    "    [ 1.,  1.,  1.,  1.,  1.,  1.,  1.,  1.,  1.,  1.],\n",
    "    [ 1.,  1.,  1.,  1.,  1.,  1.,  0.,  0.,  0.,  0.],\n",
    "    [ 1.,  0.,  0.,  0.,  0.,  0.,  1.,  1.,  1.,  1.],\n",
    "    [ 1.,  1.,  1.,  1.,  1.,  1.,  1.,  0.,  1.,  1.]\n",
    "    ])"
   ]
  },
  {
   "cell_type": "code",
   "execution_count": 3,
   "metadata": {},
   "outputs": [],
   "source": [
    "### Rules : \n",
    "#\n",
    "# directions :    0 - left / 1 - up / 2 - right / 3 - down\n",
    "# rewards :       exit_maze : +10.0 / hit wall : -5.0 / each move on unvisited cell : -0.2 / move on unvisited cell : -1\n",
    "# We consider that if the maze is not solved after row*col steps our agent has lost its way\n",
    "\n",
    "NUM_ACTIONS = 4\n",
    "LEFT = 0\n",
    "UP = 1\n",
    "RIGHT = 2\n",
    "DOWN = 3\n",
    "\n",
    "VISITED_MARK = 5\n",
    "AGENT_MARK = 2\n",
    "\n",
    "EPSILON = 0.1"
   ]
  },
  {
   "cell_type": "code",
   "execution_count": 29,
   "metadata": {},
   "outputs": [],
   "source": [
    "### QMaze\n",
    "#\n",
    "# agent    : (row, col) its coordinates inside the maze\n",
    "# target   : (row, col) \"\"\n",
    "\n",
    "class Qmaze():\n",
    "    def __init__(self, maze, agent=(0, 0), target=None):\n",
    "        self.nrows, self.ncols = maze.shape \n",
    "        self._maze = maze\n",
    "        self.maze = np.copy(self._maze)\n",
    "        self.agent = agent\n",
    "        self._target = target\n",
    "        if self._target == None:\n",
    "            self._target = (self.row-1, self.col-1)\n",
    "        \n",
    "        self.maze[self.]\n",
    "        row = self.agent[0]\n",
    "        col = self.agent[1]\n",
    "        self.maze[row, col] = AGENT_MARK\n",
    "        self.state = (row, col, 'state_init')\n",
    "        self.steps = 0\n",
    "    \n",
    "    \n",
    "    def new_maze(self, agent=(0, 0), reward=None):\n",
    "        self.maze = maze ### TODO\n",
    "            \n",
    "    \n",
    "    \n",
    "    #self.walls = [(r, c) for r in range(maze_size) for c in range(maze_size) if self._maze[r,c] == 0.]\n",
    "        \n",
    "    "
   ]
  },
  {
   "cell_type": "code",
   "execution_count": 30,
   "metadata": {},
   "outputs": [],
   "source": [
    "m1 = Qmaze(maze1)\n",
    "m2 = Qmaze(maze2)"
   ]
  },
  {
   "cell_type": "code",
   "execution_count": 31,
   "metadata": {},
   "outputs": [
    {
     "data": {
      "text/plain": [
       "{'row': 10,\n",
       " 'col': 10,\n",
       " '_maze': array([[1., 0., 1., 1., 1., 1., 1., 1., 1., 1.],\n",
       "        [1., 1., 1., 1., 1., 0., 1., 1., 1., 1.],\n",
       "        [1., 1., 1., 1., 1., 0., 1., 1., 1., 1.],\n",
       "        [0., 0., 1., 0., 0., 1., 0., 1., 1., 1.],\n",
       "        [1., 1., 0., 1., 0., 1., 0., 0., 0., 1.],\n",
       "        [1., 1., 0., 1., 0., 1., 1., 1., 1., 1.],\n",
       "        [1., 1., 1., 1., 1., 1., 1., 1., 1., 1.],\n",
       "        [1., 1., 1., 1., 1., 1., 0., 0., 0., 0.],\n",
       "        [1., 0., 0., 0., 0., 0., 1., 1., 1., 1.],\n",
       "        [1., 1., 1., 1., 1., 1., 1., 0., 1., 1.]]),\n",
       " '_agent': (0, 0),\n",
       " '_target': (9, 9)}"
      ]
     },
     "execution_count": 31,
     "metadata": {},
     "output_type": "execute_result"
    }
   ],
   "source": [
    "vars(m2) "
   ]
  },
  {
   "cell_type": "code",
   "execution_count": 11,
   "metadata": {},
   "outputs": [],
   "source": [
    "class Qmaze(object):\n",
    "    def __init__(self, maze, rat=(0,0)):\n",
    "        self._maze = np.array(maze)\n",
    "        nrows, ncols = self._maze.shape\n",
    "        self.target = (nrows-1, ncols-1)   # target cell where the \"cheese\" is\n",
    "        self.free_cells = [(r,c) for r in range(nrows) for c in range(ncols) if self._maze[r,c] == 1.0]\n",
    "        self.free_cells.remove(self.target)\n",
    "        if self._maze[self.target] == 0.0:\n",
    "            raise Exception(\"Invalid maze: target cell cannot be blocked!\")\n",
    "        if not rat in self.free_cells:\n",
    "            raise Exception(\"Invalid Rat Location: must sit on a free cell\")\n",
    "        self.reset(rat)\n",
    "\n",
    "    def reset(self, rat):\n",
    "        self.rat = rat\n",
    "        self.maze = np.copy(self._maze)\n",
    "        nrows, ncols = self.maze.shape\n",
    "        row, col = rat\n",
    "        self.maze[row, col] = AGENT_MARK\n",
    "        self.state = (row, col, 'start')\n",
    "        self.min_reward = -0.5 * self.maze.size\n",
    "        self.total_reward = 0\n",
    "        self.visited = set()"
   ]
  },
  {
   "cell_type": "code",
   "execution_count": 14,
   "metadata": {},
   "outputs": [
    {
     "data": {
      "text/plain": [
       "{'_maze': array([[1., 0., 1., 1., 1., 1., 1., 1., 1., 1.],\n",
       "        [1., 1., 1., 1., 1., 0., 1., 1., 1., 1.],\n",
       "        [1., 1., 1., 1., 1., 0., 1., 1., 1., 1.],\n",
       "        [0., 0., 1., 0., 0., 1., 0., 1., 1., 1.],\n",
       "        [1., 1., 0., 1., 0., 1., 0., 0., 0., 1.],\n",
       "        [1., 1., 0., 1., 0., 1., 1., 1., 1., 1.],\n",
       "        [1., 1., 1., 1., 1., 1., 1., 1., 1., 1.],\n",
       "        [1., 1., 1., 1., 1., 1., 0., 0., 0., 0.],\n",
       "        [1., 0., 0., 0., 0., 0., 1., 1., 1., 1.],\n",
       "        [1., 1., 1., 1., 1., 1., 1., 0., 1., 1.]]),\n",
       " 'target': (9, 9),\n",
       " 'free_cells': [(0, 0),\n",
       "  (0, 2),\n",
       "  (0, 3),\n",
       "  (0, 4),\n",
       "  (0, 5),\n",
       "  (0, 6),\n",
       "  (0, 7),\n",
       "  (0, 8),\n",
       "  (0, 9),\n",
       "  (1, 0),\n",
       "  (1, 1),\n",
       "  (1, 2),\n",
       "  (1, 3),\n",
       "  (1, 4),\n",
       "  (1, 6),\n",
       "  (1, 7),\n",
       "  (1, 8),\n",
       "  (1, 9),\n",
       "  (2, 0),\n",
       "  (2, 1),\n",
       "  (2, 2),\n",
       "  (2, 3),\n",
       "  (2, 4),\n",
       "  (2, 6),\n",
       "  (2, 7),\n",
       "  (2, 8),\n",
       "  (2, 9),\n",
       "  (3, 2),\n",
       "  (3, 5),\n",
       "  (3, 7),\n",
       "  (3, 8),\n",
       "  (3, 9),\n",
       "  (4, 0),\n",
       "  (4, 1),\n",
       "  (4, 3),\n",
       "  (4, 5),\n",
       "  (4, 9),\n",
       "  (5, 0),\n",
       "  (5, 1),\n",
       "  (5, 3),\n",
       "  (5, 5),\n",
       "  (5, 6),\n",
       "  (5, 7),\n",
       "  (5, 8),\n",
       "  (5, 9),\n",
       "  (6, 0),\n",
       "  (6, 1),\n",
       "  (6, 2),\n",
       "  (6, 3),\n",
       "  (6, 4),\n",
       "  (6, 5),\n",
       "  (6, 6),\n",
       "  (6, 7),\n",
       "  (6, 8),\n",
       "  (6, 9),\n",
       "  (7, 0),\n",
       "  (7, 1),\n",
       "  (7, 2),\n",
       "  (7, 3),\n",
       "  (7, 4),\n",
       "  (7, 5),\n",
       "  (8, 0),\n",
       "  (8, 6),\n",
       "  (8, 7),\n",
       "  (8, 8),\n",
       "  (8, 9),\n",
       "  (9, 0),\n",
       "  (9, 1),\n",
       "  (9, 2),\n",
       "  (9, 3),\n",
       "  (9, 4),\n",
       "  (9, 5),\n",
       "  (9, 6),\n",
       "  (9, 8)],\n",
       " 'rat': (0, 0),\n",
       " 'maze': array([[2., 0., 1., 1., 1., 1., 1., 1., 1., 1.],\n",
       "        [1., 1., 1., 1., 1., 0., 1., 1., 1., 1.],\n",
       "        [1., 1., 1., 1., 1., 0., 1., 1., 1., 1.],\n",
       "        [0., 0., 1., 0., 0., 1., 0., 1., 1., 1.],\n",
       "        [1., 1., 0., 1., 0., 1., 0., 0., 0., 1.],\n",
       "        [1., 1., 0., 1., 0., 1., 1., 1., 1., 1.],\n",
       "        [1., 1., 1., 1., 1., 1., 1., 1., 1., 1.],\n",
       "        [1., 1., 1., 1., 1., 1., 0., 0., 0., 0.],\n",
       "        [1., 0., 0., 0., 0., 0., 1., 1., 1., 1.],\n",
       "        [1., 1., 1., 1., 1., 1., 1., 0., 1., 1.]]),\n",
       " 'state': (0, 0, 'start'),\n",
       " 'min_reward': -50.0,\n",
       " 'total_reward': 0,\n",
       " 'visited': set()}"
      ]
     },
     "execution_count": 14,
     "metadata": {},
     "output_type": "execute_result"
    }
   ],
   "source": [
    "qmaze = Qmaze(maze2)\n",
    "vars(qmaze)"
   ]
  },
  {
   "cell_type": "code",
   "execution_count": null,
   "metadata": {},
   "outputs": [],
   "source": []
  }
 ],
 "metadata": {
  "kernelspec": {
   "display_name": "Python 3",
   "language": "python",
   "name": "python3"
  },
  "language_info": {
   "codemirror_mode": {
    "name": "ipython",
    "version": 3
   },
   "file_extension": ".py",
   "mimetype": "text/x-python",
   "name": "python",
   "nbconvert_exporter": "python",
   "pygments_lexer": "ipython3",
   "version": "3.7.7"
  }
 },
 "nbformat": 4,
 "nbformat_minor": 4
}
